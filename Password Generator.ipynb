{
 "cells": [
  {
   "cell_type": "code",
   "execution_count": null,
   "metadata": {},
   "outputs": [],
   "source": [
    "import random\n",
    "import string\n",
    "\n",
    "letters_of_password = int(input('Enter quantity for letters in password: '))\n",
    "numbers_of_password = int(input('Enter quantity for numbers in password: '))\n",
    "\n",
    "number_list =  ''.join(random.choice(string.digits) for i in range(numbers_of_password))\n",
    "letter_list = ''.join(random.choice(string.ascii_letters) for i in range(letters_of_password))\n",
    "\n",
    "syntax_list = number_list + letter_list + '!#@'\n",
    "if len(syntax_list) < 9:\n",
    "    print('Password should be minimum 6 characters')\n",
    "    exit()\n",
    "result = random.sample(syntax_list, len(syntax_list)) \n",
    "password = ''.join((result))\n",
    "print('Your pasword is {}'.format(password))"
   ]
  }
 ],
 "metadata": {
  "kernelspec": {
   "display_name": "Python 3",
   "language": "python",
   "name": "python3"
  },
  "language_info": {
   "codemirror_mode": {
    "name": "ipython",
    "version": 3
   },
   "file_extension": ".py",
   "mimetype": "text/x-python",
   "name": "python",
   "nbconvert_exporter": "python",
   "pygments_lexer": "ipython3",
   "version": "3.7.0"
  }
 },
 "nbformat": 4,
 "nbformat_minor": 2
}
